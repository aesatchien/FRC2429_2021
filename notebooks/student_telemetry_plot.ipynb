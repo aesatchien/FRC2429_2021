{
 "cells": [
  {
   "cell_type": "markdown",
   "metadata": {},
   "source": [
    "### Code to plot a telemetry profile - Running this notebook with plot the most recent saved data that you generated\n",
    "#### 2021 0128 CJH\n",
    "#### See telemetry_plot.ipynb for more information\n",
    "---\n",
    "* Imports a file with helper function definitions `import telemetry_plot_utils as tpu ` \n",
    "* Reads data from the robot/sim/data folder with `telemetry = tpu.load_file(file)`\n",
    "* Converts that data to a useful pandas dataframe with `df = tpu.fix_data(telemetry)`\n",
    "  * `df, telemetry = tpu.get_data(file_name='20210130_151440', x_offset=0, y_offset=0.0)` combines the load and table functions\n",
    "* Gets a list of the pathweaver points with `df_points = tpu.get_points_df(name='bounce')`\n",
    "* Plots them all together with plot_df, e.g. `tpu.plot_df(df_slalom_weave, telemetry_slalom_weave, point_df=df_slalom_points, background='slalom', arrows=True, save=False)`\n",
    "* Plots the velocity profiles with e.g. `tpu.velocity_plot(df_slalom_weave)`"
   ]
  },
  {
   "cell_type": "code",
   "execution_count": null,
   "metadata": {},
   "outputs": [],
   "source": [
    "#from networktables import NetworkTables\n",
    "import pandas as pd\n",
    "import matplotlib.pyplot as plt\n",
    "from mpl_toolkits.axes_grid1 import make_axes_locatable\n",
    "import numpy as np\n",
    "import pickle\n",
    "import glob\n",
    "from importlib import reload"
   ]
  },
  {
   "cell_type": "code",
   "execution_count": null,
   "metadata": {},
   "outputs": [],
   "source": [
    "import telemetry_plot_utils as tpu "
   ]
  },
  {
   "cell_type": "markdown",
   "metadata": {},
   "source": [
    "### loading point lists from pathweaver files - use this explicitly if the 'guess' option fails\n",
    "* just pass the function the unique part of the name of the file you want the points for and this gets plotted on the summary"
   ]
  },
  {
   "cell_type": "code",
   "execution_count": null,
   "metadata": {},
   "outputs": [],
   "source": [
    "path_weaver_files = data_files = glob.glob('../robot/pathweaver/paths/*')\n",
    "print(path_weaver_files)"
   ]
  },
  {
   "cell_type": "code",
   "execution_count": null,
   "metadata": {},
   "outputs": [],
   "source": [
    "df_points = tpu.get_points_df(name='slalom_cjh_slow')\n",
    "df_points.head()"
   ]
  },
  {
   "cell_type": "markdown",
   "metadata": {},
   "source": [
    "---\n",
    "#### Plot the most recent trajectory - you have to run the ramsete command and select \"write_data\" to be true in the dashboard to save data\n",
    "* To plot something else, change the filename in tpu.getdata().  It defaults to finding the most recent file in robot/sim/data.\n",
    "* Now it is guessing which set of points you need if you set `guess_points=True`.  Set to false and it will use the point_df you specify"
   ]
  },
  {
   "cell_type": "code",
   "execution_count": null,
   "metadata": {},
   "outputs": [],
   "source": [
    "# get the latest trajectory\n",
    "reload(tpu)\n",
    "df_data, telemetry = tpu.get_data(file_name=None, x_offset=0, y_offset=0.0)\n",
    "tpu.plot_df(df_data, telemetry, guess_points=True, point_df=df_points, background='slalom', arrows=True, save=False)\n",
    "tpu.velocity_plot(df_data)"
   ]
  },
  {
   "cell_type": "code",
   "execution_count": null,
   "metadata": {},
   "outputs": [],
   "source": []
  }
 ],
 "metadata": {
  "kernelspec": {
   "display_name": "Python 3",
   "language": "python",
   "name": "python3"
  },
  "language_info": {
   "codemirror_mode": {
    "name": "ipython",
    "version": 3
   },
   "file_extension": ".py",
   "mimetype": "text/x-python",
   "name": "python",
   "nbconvert_exporter": "python",
   "pygments_lexer": "ipython3",
   "version": "3.7.4"
  }
 },
 "nbformat": 4,
 "nbformat_minor": 4
}
