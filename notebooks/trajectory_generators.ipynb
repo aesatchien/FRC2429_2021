{
 "cells": [
  {
   "cell_type": "markdown",
   "metadata": {},
   "source": [
    "### Code to generate trajectories (Beta!)\n",
    "#### 2021 01 20 CJH"
   ]
  },
  {
   "cell_type": "code",
   "execution_count": 1,
   "metadata": {},
   "outputs": [],
   "source": [
    "import pandas as pd\n",
    "import matplotlib.pyplot as plt\n",
    "import numpy as np"
   ]
  },
  {
   "cell_type": "markdown",
   "metadata": {},
   "source": [
    "---\n",
    "#### making trajectories by hand - neds a lot of points on the corners"
   ]
  },
  {
   "cell_type": "code",
   "execution_count": 27,
   "metadata": {},
   "outputs": [
    {
     "data": {
      "text/html": [
       "<div>\n",
       "<style scoped>\n",
       "    .dataframe tbody tr th:only-of-type {\n",
       "        vertical-align: middle;\n",
       "    }\n",
       "\n",
       "    .dataframe tbody tr th {\n",
       "        vertical-align: top;\n",
       "    }\n",
       "\n",
       "    .dataframe thead th {\n",
       "        text-align: right;\n",
       "    }\n",
       "</style>\n",
       "<table border=\"1\" class=\"dataframe\">\n",
       "  <thead>\n",
       "    <tr style=\"text-align: right;\">\n",
       "      <th></th>\n",
       "      <th>X</th>\n",
       "      <th>Y</th>\n",
       "      <th>THETA</th>\n",
       "      <th>X_NEW</th>\n",
       "      <th>Y_NEW</th>\n",
       "      <th>RAD</th>\n",
       "    </tr>\n",
       "  </thead>\n",
       "  <tbody>\n",
       "    <tr>\n",
       "      <th>0</th>\n",
       "      <td>1.52</td>\n",
       "      <td>0.91</td>\n",
       "      <td>0.00</td>\n",
       "      <td>0.32</td>\n",
       "      <td>0.01</td>\n",
       "      <td>0.00</td>\n",
       "    </tr>\n",
       "    <tr>\n",
       "      <th>1</th>\n",
       "      <td>2.45</td>\n",
       "      <td>1.37</td>\n",
       "      <td>59.81</td>\n",
       "      <td>1.25</td>\n",
       "      <td>0.47</td>\n",
       "      <td>1.04</td>\n",
       "    </tr>\n",
       "    <tr>\n",
       "      <th>2</th>\n",
       "      <td>3.36</td>\n",
       "      <td>2.61</td>\n",
       "      <td>39.79</td>\n",
       "      <td>2.16</td>\n",
       "      <td>1.71</td>\n",
       "      <td>0.69</td>\n",
       "    </tr>\n",
       "    <tr>\n",
       "      <th>3</th>\n",
       "      <td>5.94</td>\n",
       "      <td>2.81</td>\n",
       "      <td>0.00</td>\n",
       "      <td>4.74</td>\n",
       "      <td>1.91</td>\n",
       "      <td>0.00</td>\n",
       "    </tr>\n",
       "    <tr>\n",
       "      <th>4</th>\n",
       "      <td>6.94</td>\n",
       "      <td>1.96</td>\n",
       "      <td>-69.46</td>\n",
       "      <td>5.74</td>\n",
       "      <td>1.06</td>\n",
       "      <td>-1.21</td>\n",
       "    </tr>\n",
       "    <tr>\n",
       "      <th>5</th>\n",
       "      <td>7.26</td>\n",
       "      <td>1.21</td>\n",
       "      <td>0.00</td>\n",
       "      <td>6.06</td>\n",
       "      <td>0.31</td>\n",
       "      <td>0.00</td>\n",
       "    </tr>\n",
       "    <tr>\n",
       "      <th>6</th>\n",
       "      <td>8.61</td>\n",
       "      <td>1.11</td>\n",
       "      <td>36.65</td>\n",
       "      <td>7.41</td>\n",
       "      <td>0.21</td>\n",
       "      <td>0.64</td>\n",
       "    </tr>\n",
       "    <tr>\n",
       "      <th>7</th>\n",
       "      <td>8.72</td>\n",
       "      <td>2.40</td>\n",
       "      <td>131.80</td>\n",
       "      <td>7.52</td>\n",
       "      <td>1.50</td>\n",
       "      <td>2.30</td>\n",
       "    </tr>\n",
       "    <tr>\n",
       "      <th>8</th>\n",
       "      <td>8.17</td>\n",
       "      <td>2.72</td>\n",
       "      <td>178.79</td>\n",
       "      <td>6.97</td>\n",
       "      <td>1.82</td>\n",
       "      <td>3.12</td>\n",
       "    </tr>\n",
       "    <tr>\n",
       "      <th>9</th>\n",
       "      <td>7.30</td>\n",
       "      <td>2.38</td>\n",
       "      <td>-117.24</td>\n",
       "      <td>6.10</td>\n",
       "      <td>1.48</td>\n",
       "      <td>-2.05</td>\n",
       "    </tr>\n",
       "    <tr>\n",
       "      <th>10</th>\n",
       "      <td>7.07</td>\n",
       "      <td>1.74</td>\n",
       "      <td>-116.75</td>\n",
       "      <td>5.87</td>\n",
       "      <td>0.84</td>\n",
       "      <td>-2.04</td>\n",
       "    </tr>\n",
       "    <tr>\n",
       "      <th>11</th>\n",
       "      <td>6.50</td>\n",
       "      <td>1.07</td>\n",
       "      <td>-146.16</td>\n",
       "      <td>5.30</td>\n",
       "      <td>0.17</td>\n",
       "      <td>-2.55</td>\n",
       "    </tr>\n",
       "    <tr>\n",
       "      <th>12</th>\n",
       "      <td>4.97</td>\n",
       "      <td>0.85</td>\n",
       "      <td>178.91</td>\n",
       "      <td>3.77</td>\n",
       "      <td>-0.05</td>\n",
       "      <td>3.12</td>\n",
       "    </tr>\n",
       "    <tr>\n",
       "      <th>13</th>\n",
       "      <td>3.01</td>\n",
       "      <td>1.23</td>\n",
       "      <td>136.59</td>\n",
       "      <td>1.81</td>\n",
       "      <td>0.33</td>\n",
       "      <td>2.38</td>\n",
       "    </tr>\n",
       "    <tr>\n",
       "      <th>14</th>\n",
       "      <td>2.32</td>\n",
       "      <td>2.26</td>\n",
       "      <td>131.93</td>\n",
       "      <td>1.12</td>\n",
       "      <td>1.36</td>\n",
       "      <td>2.30</td>\n",
       "    </tr>\n",
       "    <tr>\n",
       "      <th>15</th>\n",
       "      <td>1.42</td>\n",
       "      <td>2.59</td>\n",
       "      <td>-179.95</td>\n",
       "      <td>0.22</td>\n",
       "      <td>1.69</td>\n",
       "      <td>-3.14</td>\n",
       "    </tr>\n",
       "    <tr>\n",
       "      <th>16</th>\n",
       "      <td>1.05</td>\n",
       "      <td>2.66</td>\n",
       "      <td>179.76</td>\n",
       "      <td>-0.15</td>\n",
       "      <td>1.76</td>\n",
       "      <td>3.14</td>\n",
       "    </tr>\n",
       "  </tbody>\n",
       "</table>\n",
       "</div>"
      ],
      "text/plain": [
       "       X     Y   THETA  X_NEW  Y_NEW   RAD\n",
       "0   1.52  0.91    0.00   0.32   0.01  0.00\n",
       "1   2.45  1.37   59.81   1.25   0.47  1.04\n",
       "2   3.36  2.61   39.79   2.16   1.71  0.69\n",
       "3   5.94  2.81    0.00   4.74   1.91  0.00\n",
       "4   6.94  1.96  -69.46   5.74   1.06 -1.21\n",
       "5   7.26  1.21    0.00   6.06   0.31  0.00\n",
       "6   8.61  1.11   36.65   7.41   0.21  0.64\n",
       "7   8.72  2.40  131.80   7.52   1.50  2.30\n",
       "8   8.17  2.72  178.79   6.97   1.82  3.12\n",
       "9   7.30  2.38 -117.24   6.10   1.48 -2.05\n",
       "10  7.07  1.74 -116.75   5.87   0.84 -2.04\n",
       "11  6.50  1.07 -146.16   5.30   0.17 -2.55\n",
       "12  4.97  0.85  178.91   3.77  -0.05  3.12\n",
       "13  3.01  1.23  136.59   1.81   0.33  2.38\n",
       "14  2.32  2.26  131.93   1.12   1.36  2.30\n",
       "15  1.42  2.59 -179.95   0.22   1.69 -3.14\n",
       "16  1.05  2.66  179.76  -0.15   1.76  3.14"
      ]
     },
     "execution_count": 27,
     "metadata": {},
     "output_type": "execute_result"
    }
   ],
   "source": [
    "# copy x,y,angle data from the smartdash and make a list of them\n",
    "x_offset, y_offset = 1.2, 0.9\n",
    "# points used to generate trajectory\n",
    "plist = [(1.520012,0.910000,0.000000), (2.447216,1.374044,59.807731), (3.359672,2.612377,39.789710), \n",
    "         (5.942630,2.809398,0.000000), (6.944320,1.960623,-69.456607), \n",
    "         (7.255449,1.207945,0.000000), (8.605512,1.105526,36.654595), \n",
    "         (8.717240,2.399724,131.803625), (8.173342,2.724106,178.791021), \n",
    "         (7.302003,2.381102,-117.243430), (7.065360,1.737164,-116.747003),\n",
    "         (6.497403,1.066788,-146.158568), (4.970436,0.852641,178.906396), \n",
    "         (3.005862,1.234382,136.592009), (2.316865,2.258568,131.932310),\n",
    "         (1.423031,2.593755,-179.951353), (1.054474,2.660425,179.761362)]\n",
    "df_slalolm = pd.DataFrame(plist, columns=['X', 'Y', 'THETA'])\n",
    "df_slalolm['X_NEW'] = df_slalolm['X'] - x_offset\n",
    "df_slalolm['Y_NEW'] = df_slalolm['Y'] - y_offset\n",
    "df_slalolm['RAD'] = df_slalolm['THETA']*3.1415/180\n",
    "df_slalolm.round(2)"
   ]
  },
  {
   "cell_type": "code",
   "execution_count": 28,
   "metadata": {},
   "outputs": [
    {
     "name": "stdout",
     "output_type": "stream",
     "text": [
      "geo.Translation2d(0.32, 0.01), geo.Translation2d(1.25, 0.47), geo.Translation2d(2.16, 1.71), \n",
      "geo.Translation2d(4.74, 1.91), geo.Translation2d(5.74, 1.06), geo.Translation2d(6.06, 0.31), \n",
      "geo.Translation2d(7.41, 0.21), geo.Translation2d(7.52, 1.50), geo.Translation2d(6.97, 1.82), \n",
      "geo.Translation2d(6.10, 1.48), geo.Translation2d(5.87, 0.84), geo.Translation2d(5.30, 0.17), \n",
      "geo.Translation2d(3.77, -0.05), geo.Translation2d(1.81, 0.33), geo.Translation2d(1.12, 1.36), \n",
      "geo.Translation2d(0.22, 1.69), geo.Translation2d(-0.15, 1.76), \n"
     ]
    }
   ],
   "source": [
    "# generate translation waypoints \n",
    "x_offset, y_offset = 1.2, 0.9\n",
    "out = \"\"\n",
    "for ix, i in enumerate(zip(df_slalolm['X_NEW'],df_slalolm['Y_NEW'])):\n",
    "    out = out+ f\"geo.Translation2d({i[0]:2.2f}, {i[1]:2.2f}), \"\n",
    "    if (ix-2) % 3 == 0:\n",
    "        out= out+ '\\n'\n",
    "print(out)"
   ]
  },
  {
   "cell_type": "code",
   "execution_count": 25,
   "metadata": {},
   "outputs": [
    {
     "data": {
      "text/html": [
       "<div>\n",
       "<style scoped>\n",
       "    .dataframe tbody tr th:only-of-type {\n",
       "        vertical-align: middle;\n",
       "    }\n",
       "\n",
       "    .dataframe tbody tr th {\n",
       "        vertical-align: top;\n",
       "    }\n",
       "\n",
       "    .dataframe thead th {\n",
       "        text-align: right;\n",
       "    }\n",
       "</style>\n",
       "<table border=\"1\" class=\"dataframe\">\n",
       "  <thead>\n",
       "    <tr style=\"text-align: right;\">\n",
       "      <th></th>\n",
       "      <th>X</th>\n",
       "      <th>Y</th>\n",
       "      <th>THETA</th>\n",
       "      <th>X_NEW</th>\n",
       "      <th>Y_NEW</th>\n",
       "      <th>RAD</th>\n",
       "    </tr>\n",
       "  </thead>\n",
       "  <tbody>\n",
       "    <tr>\n",
       "      <th>0</th>\n",
       "      <td>1.29</td>\n",
       "      <td>0.92</td>\n",
       "      <td>0.00</td>\n",
       "      <td>0.09</td>\n",
       "      <td>0.02</td>\n",
       "      <td>0.00</td>\n",
       "    </tr>\n",
       "    <tr>\n",
       "      <th>1</th>\n",
       "      <td>7.37</td>\n",
       "      <td>1.06</td>\n",
       "      <td>0.00</td>\n",
       "      <td>6.17</td>\n",
       "      <td>0.16</td>\n",
       "      <td>0.00</td>\n",
       "    </tr>\n",
       "    <tr>\n",
       "      <th>2</th>\n",
       "      <td>8.82</td>\n",
       "      <td>1.77</td>\n",
       "      <td>91.52</td>\n",
       "      <td>7.62</td>\n",
       "      <td>0.87</td>\n",
       "      <td>1.60</td>\n",
       "    </tr>\n",
       "    <tr>\n",
       "      <th>3</th>\n",
       "      <td>7.26</td>\n",
       "      <td>2.65</td>\n",
       "      <td>179.93</td>\n",
       "      <td>6.06</td>\n",
       "      <td>1.75</td>\n",
       "      <td>3.14</td>\n",
       "    </tr>\n",
       "    <tr>\n",
       "      <th>4</th>\n",
       "      <td>1.41</td>\n",
       "      <td>2.60</td>\n",
       "      <td>179.93</td>\n",
       "      <td>0.21</td>\n",
       "      <td>1.70</td>\n",
       "      <td>3.14</td>\n",
       "    </tr>\n",
       "  </tbody>\n",
       "</table>\n",
       "</div>"
      ],
      "text/plain": [
       "      X     Y   THETA  X_NEW  Y_NEW   RAD\n",
       "0  1.29  0.92    0.00   0.09   0.02  0.00\n",
       "1  7.37  1.06    0.00   6.17   0.16  0.00\n",
       "2  8.82  1.77   91.52   7.62   0.87  1.60\n",
       "3  7.26  2.65  179.93   6.06   1.75  3.14\n",
       "4  1.41  2.60  179.93   0.21   1.70  3.14"
      ]
     },
     "execution_count": 25,
     "metadata": {},
     "output_type": "execute_result"
    }
   ],
   "source": [
    "# generate poses\n",
    "# simple loop test - see that it works and help to tune constants\n",
    "plist = [(1.287243,0.919311,0.000000), (7.367178,1.058972,0.000000), (8.819659,1.766591,91.521775), \n",
    "         (7.255449,2.651115,179.934763), (1.408283,2.604561,179.934763) ]\n",
    "df_slalolm = pd.DataFrame(plist, columns=['X', 'Y', 'THETA'])\n",
    "df_slalolm['X_NEW'] = df_slalolm['X'] - x_offset\n",
    "df_slalolm['Y_NEW'] = df_slalolm['Y'] - y_offset\n",
    "df_slalolm['RAD'] = df_slalolm['THETA']*3.1415/180\n",
    "df_slalolm.round(2)"
   ]
  },
  {
   "cell_type": "code",
   "execution_count": 29,
   "metadata": {},
   "outputs": [
    {
     "name": "stdout",
     "output_type": "stream",
     "text": [
      "geo.Pose2d(0.32, 0.01, geo.Rotation2d(0.00)), \n",
      "geo.Pose2d(1.25, 0.47, geo.Rotation2d(1.04)), geo.Pose2d(2.16, 1.71, geo.Rotation2d(0.69)), \n",
      "geo.Pose2d(4.74, 1.91, geo.Rotation2d(0.00)), geo.Pose2d(5.74, 1.06, geo.Rotation2d(-1.21)), \n",
      "geo.Pose2d(6.06, 0.31, geo.Rotation2d(0.00)), geo.Pose2d(7.41, 0.21, geo.Rotation2d(0.64)), \n",
      "geo.Pose2d(7.52, 1.50, geo.Rotation2d(2.30)), geo.Pose2d(6.97, 1.82, geo.Rotation2d(3.12)), \n",
      "geo.Pose2d(6.10, 1.48, geo.Rotation2d(-2.05)), geo.Pose2d(5.87, 0.84, geo.Rotation2d(-2.04)), \n",
      "geo.Pose2d(5.30, 0.17, geo.Rotation2d(-2.55)), geo.Pose2d(3.77, -0.05, geo.Rotation2d(3.12)), \n",
      "geo.Pose2d(1.81, 0.33, geo.Rotation2d(2.38)), geo.Pose2d(1.12, 1.36, geo.Rotation2d(2.30)), \n",
      "geo.Pose2d(0.22, 1.69, geo.Rotation2d(-3.14)), geo.Pose2d(-0.15, 1.76, geo.Rotation2d(3.14)), \n",
      "\n"
     ]
    }
   ],
   "source": [
    "# generate pose waypoints\n",
    "out = \"\"\n",
    "for ix, i in enumerate(zip(df_slalolm['X_NEW'],df_slalolm['Y_NEW'],df_slalolm['RAD'])):\n",
    "    out = out+ f\"geo.Pose2d({i[0]:2.2f}, {i[1]:2.2f}, geo.Rotation2d({i[2]:2.2f})), \"\n",
    "    if (ix) % 2 == 0:\n",
    "        out= out+ '\\n'\n",
    "print(out)"
   ]
  },
  {
   "cell_type": "code",
   "execution_count": null,
   "metadata": {},
   "outputs": [],
   "source": []
  },
  {
   "cell_type": "markdown",
   "metadata": {},
   "source": [
    "---\n",
    "#### Measure the feed forward parameters to characterize the drivetrain"
   ]
  },
  {
   "cell_type": "code",
   "execution_count": 6,
   "metadata": {},
   "outputs": [
    {
     "data": {
      "text/plain": [
       "[<matplotlib.lines.Line2D at 0x1f794425888>]"
      ]
     },
     "execution_count": 6,
     "metadata": {},
     "output_type": "execute_result"
    },
    {
     "data": {
      "image/png": "[encoded data removed]",
      "text/plain": [
       "<Figure size 432x288 with 1 Axes>"
      ]
     },
     "metadata": {
      "needs_background": "light"
     },
     "output_type": "display_data"
    }
   ],
   "source": [
    "# feed forward - run at a fixed voltage and measure the velocity, generate the intercept and slope for the SimpleMotorFeedForward object\n",
    "ff_x = [1, 2,    3,    4,    5]\n",
    "ff_y = [0, 0.33, 0.83, 1.33,  1.82]\n",
    "\n",
    "df_pid = pd.DataFrame({'VOLTS':ff_x, 'VEL':ff_y})\n",
    "ax = df_pid.plot('VOLTS', 'VEL', kind='scatter')\n",
    "\n",
    "par = np.polyfit(ff_x, ff_y, 1, full=True)\n",
    "slope=par[0][0]\n",
    "intercept=par[0][1]\n",
    "xl = np.linspace(0,5,51)\n",
    "yl = slope*xl + intercept\n",
    "\n",
    "plt.plot(xl,yl)"
   ]
  },
  {
   "cell_type": "code",
   "execution_count": 7,
   "metadata": {},
   "outputs": [
    {
     "data": {
      "text/plain": [
       "(1.1422413793103445, 2.1551724137931036)"
      ]
     },
     "execution_count": 7,
     "metadata": {},
     "output_type": "execute_result"
    }
   ],
   "source": [
    "ks = -intercept/slope\n",
    "kv = 1/slope\n",
    "ks, kv"
   ]
  },
  {
   "cell_type": "markdown",
   "metadata": {},
   "source": [
    "---\n",
    "#### Fitting some distance data - not necessary now that encoders are fixed"
   ]
  },
  {
   "cell_type": "code",
   "execution_count": 8,
   "metadata": {},
   "outputs": [
    {
     "data": {
      "text/plain": [
       "[<matplotlib.lines.Line2D at 0x1f7944bf748>]"
      ]
     },
     "execution_count": 8,
     "metadata": {},
     "output_type": "execute_result"
    },
    {
     "data": {
      "image/png": "[encoded data removed]",
      "text/plain": [
       "<Figure size 432x288 with 1 Axes>"
      ]
     },
     "metadata": {
      "needs_background": "light"
     },
     "output_type": "display_data"
    }
   ],
   "source": [
    "# this used \n",
    "pid_x = np.array([0.5,  0.75,  1,    2,    3,    4  ])\n",
    "pid_y = np.array([0.88, 1.62,  2.20, 3.89, 5.25, 6.48])\n",
    "\n",
    "df_pid = pd.DataFrame({'PID_X':pid_x, 'PID_Y':pid_y})\n",
    "ax = df_pid.plot('PID_X', 'PID_Y', kind='scatter')\n",
    "\n",
    "par = np.polyfit(pid_x, pid_y, 1, full=True)\n",
    "slope=par[0][0]\n",
    "intercept=par[0][1]\n",
    "xl = np.linspace(0,5,51)\n",
    "yl = slope*xl + intercept\n",
    "\n",
    "plt.plot(xl,yl)"
   ]
  },
  {
   "cell_type": "code",
   "execution_count": 9,
   "metadata": {},
   "outputs": [
    {
     "data": {
      "text/html": [
       "<div>\n",
       "<style scoped>\n",
       "    .dataframe tbody tr th:only-of-type {\n",
       "        vertical-align: middle;\n",
       "    }\n",
       "\n",
       "    .dataframe tbody tr th {\n",
       "        vertical-align: top;\n",
       "    }\n",
       "\n",
       "    .dataframe thead th {\n",
       "        text-align: right;\n",
       "    }\n",
       "</style>\n",
       "<table border=\"1\" class=\"dataframe\">\n",
       "  <thead>\n",
       "    <tr style=\"text-align: right;\">\n",
       "      <th></th>\n",
       "      <th>month</th>\n",
       "      <th>points</th>\n",
       "      <th>points_h1</th>\n",
       "      <th>time</th>\n",
       "      <th>year</th>\n",
       "    </tr>\n",
       "  </thead>\n",
       "  <tbody>\n",
       "    <tr>\n",
       "      <th>0</th>\n",
       "      <td>NaN</td>\n",
       "      <td>50.0</td>\n",
       "      <td>NaN</td>\n",
       "      <td>5:00</td>\n",
       "      <td>2010.0</td>\n",
       "    </tr>\n",
       "    <tr>\n",
       "      <th>1</th>\n",
       "      <td>february</td>\n",
       "      <td>25.0</td>\n",
       "      <td>NaN</td>\n",
       "      <td>6:00</td>\n",
       "      <td>NaN</td>\n",
       "    </tr>\n",
       "    <tr>\n",
       "      <th>2</th>\n",
       "      <td>january</td>\n",
       "      <td>90.0</td>\n",
       "      <td>NaN</td>\n",
       "      <td>9:00</td>\n",
       "      <td>NaN</td>\n",
       "    </tr>\n",
       "    <tr>\n",
       "      <th>3</th>\n",
       "      <td>june</td>\n",
       "      <td>NaN</td>\n",
       "      <td>20.0</td>\n",
       "      <td>NaN</td>\n",
       "      <td>NaN</td>\n",
       "    </tr>\n",
       "  </tbody>\n",
       "</table>\n",
       "</div>"
      ],
      "text/plain": [
       "      month  points  points_h1  time    year\n",
       "0       NaN    50.0        NaN  5:00  2010.0\n",
       "1  february    25.0        NaN  6:00     NaN\n",
       "2   january    90.0        NaN  9:00     NaN\n",
       "3      june     NaN       20.0   NaN     NaN"
      ]
     },
     "execution_count": 9,
     "metadata": {},
     "output_type": "execute_result"
    }
   ],
   "source": [
    "example = [{'points': 50, 'time': '5:00', 'year': 2010}, \n",
    "{'points': 25, 'time': '6:00', 'month': \"february\"}, \n",
    "{'points':90, 'time': '9:00', 'month': 'january'}, \n",
    "{'points_h1':20, 'month': 'june'}]\n",
    "pd.DataFrame(example)"
   ]
  },
  {
   "cell_type": "code",
   "execution_count": 40,
   "metadata": {},
   "outputs": [],
   "source": [
    "import numpy as np\n",
    "spacing = 2.5 * .3084\n",
    "slalom_points = np.array([(2,1), (2,2), (2,4), (2,5), (2,6), (2,7), (2,8), (2,10), (4,1), (4,2)], dtype=float)"
   ]
  },
  {
   "cell_type": "code",
   "execution_count": 46,
   "metadata": {},
   "outputs": [],
   "source": [
    "slalom_points = spacing * slalom_points"
   ]
  },
  {
   "cell_type": "code",
   "execution_count": 47,
   "metadata": {},
   "outputs": [],
   "source": [
    "test = np.array([1.5, 1.4])"
   ]
  },
  {
   "cell_type": "code",
   "execution_count": 51,
   "metadata": {},
   "outputs": [
    {
     "data": {
      "text/plain": [
       "True"
      ]
     },
     "execution_count": 51,
     "metadata": {},
     "output_type": "execute_result"
    }
   ],
   "source": [
    "any([np.linalg.norm(test-i)<0.3 for i in slalom_points])"
   ]
  },
  {
   "cell_type": "code",
   "execution_count": 44,
   "metadata": {},
   "outputs": [
    {
     "data": {
      "text/plain": [
       "array([-0.5, -0.6])"
      ]
     },
     "execution_count": 44,
     "metadata": {},
     "output_type": "execute_result"
    }
   ],
   "source": [
    "test - slalom_points[1]"
   ]
  },
  {
   "cell_type": "code",
   "execution_count": 45,
   "metadata": {},
   "outputs": [
    {
     "data": {
      "text/plain": [
       "array([2., 2.])"
      ]
     },
     "execution_count": 45,
     "metadata": {},
     "output_type": "execute_result"
    }
   ],
   "source": [
    "slalom_points[1]"
   ]
  },
  {
   "cell_type": "code",
   "execution_count": 52,
   "metadata": {},
   "outputs": [
    {
     "data": {
      "text/plain": [
       "[(0.771, 1.542),\n",
       " (1.542, 1.542),\n",
       " (3.084, 1.542),\n",
       " (3.855, 1.542),\n",
       " (4.626, 1.542),\n",
       " (5.397, 1.542),\n",
       " (6.168, 1.542),\n",
       " (7.71, 1.542),\n",
       " (0.771, 3.084),\n",
       " (1.542, 3.084)]"
      ]
     },
     "execution_count": 52,
     "metadata": {},
     "output_type": "execute_result"
    }
   ],
   "source": [
    "slalom_points = [(1,2), (2,2), (4,2), (5,2), (6,2), (7,2), (8,2), (10,2), (1,4), (2,4)]\n",
    "slalom_points = [(spacing*i[0], spacing*i[1]) for i in slalom_points]\n",
    "slalom_points"
   ]
  },
  {
   "cell_type": "code",
   "execution_count": null,
   "metadata": {},
   "outputs": [],
   "source": []
  }
 ],
 "metadata": {
  "kernelspec": {
   "display_name": "Python 3",
   "language": "python",
   "name": "python3"
  },
  "language_info": {
   "codemirror_mode": {
    "name": "ipython",
    "version": 3
   },
   "file_extension": ".py",
   "mimetype": "text/x-python",
   "name": "python",
   "nbconvert_exporter": "python",
   "pygments_lexer": "ipython3",
   "version": "3.7.4"
  }
 },
 "nbformat": 4,
 "nbformat_minor": 4
}
