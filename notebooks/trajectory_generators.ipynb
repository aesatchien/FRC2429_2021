{
 "cells": [
  {
   "cell_type": "markdown",
   "metadata": {},
   "source": [
    "### Code to generate trajectories (Beta!)\n",
    "#### 2021 01 20 CJH"
   ]
  },
  {
   "cell_type": "code",
   "execution_count": 2,
   "metadata": {},
   "outputs": [],
   "source": [
    "import pandas as pd\n",
    "import matplotlib.pyplot as plt\n",
    "import numpy as np\n",
    "import telemetry_plot_utils as tpu \n",
    "import glob"
   ]
  },
  {
   "cell_type": "markdown",
   "metadata": {},
   "source": [
    "---\n",
    "#### making trajectories by hand - neds a lot of points on the corners"
   ]
  },
  {
   "cell_type": "code",
   "execution_count": 4,
   "metadata": {},
   "outputs": [
    {
     "data": {
      "text/plain": [
       "['../robot/pathweaver/paths\\\\barrel_pw0',\n",
       " '../robot/pathweaver/paths\\\\barrel_pw1',\n",
       " '../robot/pathweaver/paths\\\\barrel_test',\n",
       " '../robot/pathweaver/paths\\\\bounce_pw0',\n",
       " '../robot/pathweaver/paths\\\\bounce_pw1',\n",
       " '../robot/pathweaver/paths\\\\bounce_pw2',\n",
       " '../robot/pathweaver/paths\\\\bounce_pw3',\n",
       " '../robot/pathweaver/paths\\\\bounce_pw4',\n",
       " '../robot/pathweaver/paths\\\\calibrate',\n",
       " '../robot/pathweaver/paths\\\\calibrate_rev',\n",
       " '../robot/pathweaver/paths\\\\slalom_cjh_fast',\n",
       " '../robot/pathweaver/paths\\\\slalom_cjh_slow',\n",
       " '../robot/pathweaver/paths\\\\slalom_pw0']"
      ]
     },
     "execution_count": 4,
     "metadata": {},
     "output_type": "execute_result"
    }
   ],
   "source": [
    "path_weaver_files = data_files = glob.glob('../robot/pathweaver/paths/*')\n",
    "path_weaver_files"
   ]
  },
  {
   "cell_type": "code",
   "execution_count": 5,
   "metadata": {},
   "outputs": [
    {
     "data": {
      "text/html": [
       "<div>\n",
       "<style scoped>\n",
       "    .dataframe tbody tr th:only-of-type {\n",
       "        vertical-align: middle;\n",
       "    }\n",
       "\n",
       "    .dataframe tbody tr th {\n",
       "        vertical-align: top;\n",
       "    }\n",
       "\n",
       "    .dataframe thead th {\n",
       "        text-align: right;\n",
       "    }\n",
       "</style>\n",
       "<table border=\"1\" class=\"dataframe\">\n",
       "  <thead>\n",
       "    <tr style=\"text-align: right;\">\n",
       "      <th></th>\n",
       "      <th>X</th>\n",
       "      <th>Y</th>\n",
       "      <th>Tangent X</th>\n",
       "      <th>Tangent Y</th>\n",
       "      <th>Fixed Theta</th>\n",
       "      <th>Reversed</th>\n",
       "      <th>Name</th>\n",
       "    </tr>\n",
       "  </thead>\n",
       "  <tbody>\n",
       "    <tr>\n",
       "      <th>0</th>\n",
       "      <td>1.100000</td>\n",
       "      <td>0.686751</td>\n",
       "      <td>0.520091</td>\n",
       "      <td>0.006372</td>\n",
       "      <td>True</td>\n",
       "      <td>False</td>\n",
       "      <td>NaN</td>\n",
       "    </tr>\n",
       "    <tr>\n",
       "      <th>1</th>\n",
       "      <td>2.098016</td>\n",
       "      <td>0.928900</td>\n",
       "      <td>0.210287</td>\n",
       "      <td>0.312245</td>\n",
       "      <td>True</td>\n",
       "      <td>False</td>\n",
       "      <td>NaN</td>\n",
       "    </tr>\n",
       "    <tr>\n",
       "      <th>2</th>\n",
       "      <td>2.646037</td>\n",
       "      <td>1.833772</td>\n",
       "      <td>0.385870</td>\n",
       "      <td>0.478197</td>\n",
       "      <td>False</td>\n",
       "      <td>False</td>\n",
       "      <td>NaN</td>\n",
       "    </tr>\n",
       "    <tr>\n",
       "      <th>3</th>\n",
       "      <td>3.206803</td>\n",
       "      <td>2.400910</td>\n",
       "      <td>0.312245</td>\n",
       "      <td>0.223032</td>\n",
       "      <td>True</td>\n",
       "      <td>False</td>\n",
       "      <td>NaN</td>\n",
       "    </tr>\n",
       "    <tr>\n",
       "      <th>4</th>\n",
       "      <td>3.773941</td>\n",
       "      <td>2.732271</td>\n",
       "      <td>0.560766</td>\n",
       "      <td>0.159308</td>\n",
       "      <td>True</td>\n",
       "      <td>False</td>\n",
       "      <td>NaN</td>\n",
       "    </tr>\n",
       "  </tbody>\n",
       "</table>\n",
       "</div>"
      ],
      "text/plain": [
       "          X         Y  Tangent X  Tangent Y  Fixed Theta  Reversed  Name\n",
       "0  1.100000  0.686751   0.520091   0.006372         True     False   NaN\n",
       "1  2.098016  0.928900   0.210287   0.312245         True     False   NaN\n",
       "2  2.646037  1.833772   0.385870   0.478197        False     False   NaN\n",
       "3  3.206803  2.400910   0.312245   0.223032         True     False   NaN\n",
       "4  3.773941  2.732271   0.560766   0.159308         True     False   NaN"
      ]
     },
     "execution_count": 5,
     "metadata": {},
     "output_type": "execute_result"
    }
   ],
   "source": [
    "df_points = tpu.get_points_df(name='slalom_cjh_fast')\n",
    "df_points.head()"
   ]
  },
  {
   "cell_type": "code",
   "execution_count": 9,
   "metadata": {},
   "outputs": [],
   "source": [
    "# generate translation waypoints \n",
    "def waypoints_from_path(file):\n",
    "    out = \"\"\n",
    "    df_points = tpu.get_points_df(name=file)\n",
    "    for ix, i in enumerate(zip(df_points['X'],df_slalolm['Y'])):\n",
    "        out = out+ f\"geo.Translation2d({i[0]:2.2f}, {i[1]:2.2f}), \"\n",
    "        if (ix-2) % 3 == 0:\n",
    "            out= out+ '\\n'\n",
    "    print(out)"
   ]
  },
  {
   "cell_type": "code",
   "execution_count": 12,
   "metadata": {},
   "outputs": [
    {
     "name": "stdout",
     "output_type": "stream",
     "text": [
      "geo.Translation2d(1.10, 0.91), geo.Translation2d(2.10, 1.37), geo.Translation2d(2.65, 2.61), \n",
      "geo.Translation2d(3.21, 2.81), geo.Translation2d(3.77, 1.96), geo.Translation2d(5.72, 1.21), \n",
      "geo.Translation2d(6.42, 1.11), geo.Translation2d(7.11, 2.40), geo.Translation2d(8.27, 2.72), \n",
      "geo.Translation2d(8.67, 2.38), geo.Translation2d(8.36, 1.74), geo.Translation2d(7.48, 1.07), \n",
      "geo.Translation2d(7.06, 0.85), geo.Translation2d(6.39, 1.23), geo.Translation2d(5.05, 2.26), \n",
      "geo.Translation2d(3.26, 2.59), geo.Translation2d(2.65, 2.66), \n"
     ]
    }
   ],
   "source": [
    "file = 'slalom_cjh_fast'\n",
    "waypoints_from_path(file)"
   ]
  },
  {
   "cell_type": "code",
   "execution_count": 13,
   "metadata": {},
   "outputs": [
    {
     "name": "stdout",
     "output_type": "stream",
     "text": [
      "geo.Translation2d(1.10, 0.91), geo.Translation2d(2.10, 1.37), geo.Translation2d(2.65, 2.61), \n",
      "geo.Translation2d(3.21, 2.81), geo.Translation2d(3.77, 1.96), geo.Translation2d(5.72, 1.21), \n",
      "geo.Translation2d(6.42, 1.11), geo.Translation2d(7.11, 2.40), geo.Translation2d(7.99, 2.72), \n",
      "geo.Translation2d(8.53, 2.38), geo.Translation2d(8.34, 1.74), geo.Translation2d(7.48, 1.07), \n",
      "geo.Translation2d(7.06, 0.85), geo.Translation2d(6.53, 1.23), geo.Translation2d(4.72, 2.26), \n",
      "geo.Translation2d(3.26, 2.59), geo.Translation2d(2.65, 2.66), \n"
     ]
    }
   ],
   "source": [
    "file = 'slalom_cjh_slow'\n",
    "waypoints_from_path(file)"
   ]
  },
  {
   "cell_type": "code",
   "execution_count": 6,
   "metadata": {},
   "outputs": [
    {
     "data": {
      "text/html": [
       "<div>\n",
       "<style scoped>\n",
       "    .dataframe tbody tr th:only-of-type {\n",
       "        vertical-align: middle;\n",
       "    }\n",
       "\n",
       "    .dataframe tbody tr th {\n",
       "        vertical-align: top;\n",
       "    }\n",
       "\n",
       "    .dataframe thead th {\n",
       "        text-align: right;\n",
       "    }\n",
       "</style>\n",
       "<table border=\"1\" class=\"dataframe\">\n",
       "  <thead>\n",
       "    <tr style=\"text-align: right;\">\n",
       "      <th></th>\n",
       "      <th>X</th>\n",
       "      <th>Y</th>\n",
       "      <th>THETA</th>\n",
       "      <th>X_NEW</th>\n",
       "      <th>Y_NEW</th>\n",
       "      <th>RAD</th>\n",
       "    </tr>\n",
       "  </thead>\n",
       "  <tbody>\n",
       "    <tr>\n",
       "      <th>0</th>\n",
       "      <td>1.52</td>\n",
       "      <td>0.91</td>\n",
       "      <td>0.00</td>\n",
       "      <td>0.32</td>\n",
       "      <td>0.01</td>\n",
       "      <td>0.00</td>\n",
       "    </tr>\n",
       "    <tr>\n",
       "      <th>1</th>\n",
       "      <td>2.45</td>\n",
       "      <td>1.37</td>\n",
       "      <td>59.81</td>\n",
       "      <td>1.25</td>\n",
       "      <td>0.47</td>\n",
       "      <td>1.04</td>\n",
       "    </tr>\n",
       "    <tr>\n",
       "      <th>2</th>\n",
       "      <td>3.36</td>\n",
       "      <td>2.61</td>\n",
       "      <td>39.79</td>\n",
       "      <td>2.16</td>\n",
       "      <td>1.71</td>\n",
       "      <td>0.69</td>\n",
       "    </tr>\n",
       "    <tr>\n",
       "      <th>3</th>\n",
       "      <td>5.94</td>\n",
       "      <td>2.81</td>\n",
       "      <td>0.00</td>\n",
       "      <td>4.74</td>\n",
       "      <td>1.91</td>\n",
       "      <td>0.00</td>\n",
       "    </tr>\n",
       "    <tr>\n",
       "      <th>4</th>\n",
       "      <td>6.94</td>\n",
       "      <td>1.96</td>\n",
       "      <td>-69.46</td>\n",
       "      <td>5.74</td>\n",
       "      <td>1.06</td>\n",
       "      <td>-1.21</td>\n",
       "    </tr>\n",
       "  </tbody>\n",
       "</table>\n",
       "</div>"
      ],
      "text/plain": [
       "      X     Y  THETA  X_NEW  Y_NEW   RAD\n",
       "0  1.52  0.91   0.00   0.32   0.01  0.00\n",
       "1  2.45  1.37  59.81   1.25   0.47  1.04\n",
       "2  3.36  2.61  39.79   2.16   1.71  0.69\n",
       "3  5.94  2.81   0.00   4.74   1.91  0.00\n",
       "4  6.94  1.96 -69.46   5.74   1.06 -1.21"
      ]
     },
     "execution_count": 6,
     "metadata": {},
     "output_type": "execute_result"
    }
   ],
   "source": [
    "# copy x,y,angle data from the smartdash and make a list of them\n",
    "x_offset, y_offset = 1.2, 0.9\n",
    "# points used to generate trajectory\n",
    "plist = [(1.520012,0.910000,0.000000), (2.447216,1.374044,59.807731), (3.359672,2.612377,39.789710), \n",
    "         (5.942630,2.809398,0.000000), (6.944320,1.960623,-69.456607), \n",
    "         (7.255449,1.207945,0.000000), (8.605512,1.105526,36.654595), \n",
    "         (8.717240,2.399724,131.803625), (8.173342,2.724106,178.791021), \n",
    "         (7.302003,2.381102,-117.243430), (7.065360,1.737164,-116.747003),\n",
    "         (6.497403,1.066788,-146.158568), (4.970436,0.852641,178.906396), \n",
    "         (3.005862,1.234382,136.592009), (2.316865,2.258568,131.932310),\n",
    "         (1.423031,2.593755,-179.951353), (1.054474,2.660425,179.761362)]\n",
    "df_slalolm = pd.DataFrame(plist, columns=['X', 'Y', 'THETA'])\n",
    "df_slalolm['X_NEW'] = df_slalolm['X'] - x_offset\n",
    "df_slalolm['Y_NEW'] = df_slalolm['Y'] - y_offset\n",
    "df_slalolm['RAD'] = df_slalolm['THETA']*3.1415/180\n",
    "df_slalolm.round(2).head()"
   ]
  },
  {
   "cell_type": "code",
   "execution_count": 3,
   "metadata": {},
   "outputs": [
    {
     "name": "stdout",
     "output_type": "stream",
     "text": [
      "geo.Translation2d(0.32, 0.01), geo.Translation2d(1.25, 0.47), geo.Translation2d(2.16, 1.71), \n",
      "geo.Translation2d(4.74, 1.91), geo.Translation2d(5.74, 1.06), geo.Translation2d(6.06, 0.31), \n",
      "geo.Translation2d(7.41, 0.21), geo.Translation2d(7.52, 1.50), geo.Translation2d(6.97, 1.82), \n",
      "geo.Translation2d(6.10, 1.48), geo.Translation2d(5.87, 0.84), geo.Translation2d(5.30, 0.17), \n",
      "geo.Translation2d(3.77, -0.05), geo.Translation2d(1.81, 0.33), geo.Translation2d(1.12, 1.36), \n",
      "geo.Translation2d(0.22, 1.69), geo.Translation2d(-0.15, 1.76), \n"
     ]
    }
   ],
   "source": [
    "# generate translation waypoints \n",
    "x_offset, y_offset = 1.2, 0.9\n",
    "out = \"\"\n",
    "for ix, i in enumerate(zip(df_slalolm['X_NEW'],df_slalolm['Y_NEW'])):\n",
    "    out = out+ f\"geo.Translation2d({i[0]:2.2f}, {i[1]:2.2f}), \"\n",
    "    if (ix-2) % 3 == 0:\n",
    "        out= out+ '\\n'\n",
    "print(out)"
   ]
  },
  {
   "cell_type": "code",
   "execution_count": 4,
   "metadata": {},
   "outputs": [
    {
     "data": {
      "text/html": [
       "<div>\n",
       "<style scoped>\n",
       "    .dataframe tbody tr th:only-of-type {\n",
       "        vertical-align: middle;\n",
       "    }\n",
       "\n",
       "    .dataframe tbody tr th {\n",
       "        vertical-align: top;\n",
       "    }\n",
       "\n",
       "    .dataframe thead th {\n",
       "        text-align: right;\n",
       "    }\n",
       "</style>\n",
       "<table border=\"1\" class=\"dataframe\">\n",
       "  <thead>\n",
       "    <tr style=\"text-align: right;\">\n",
       "      <th></th>\n",
       "      <th>X</th>\n",
       "      <th>Y</th>\n",
       "      <th>THETA</th>\n",
       "      <th>X_NEW</th>\n",
       "      <th>Y_NEW</th>\n",
       "      <th>RAD</th>\n",
       "    </tr>\n",
       "  </thead>\n",
       "  <tbody>\n",
       "    <tr>\n",
       "      <th>0</th>\n",
       "      <td>1.29</td>\n",
       "      <td>0.92</td>\n",
       "      <td>0.00</td>\n",
       "      <td>0.09</td>\n",
       "      <td>0.02</td>\n",
       "      <td>0.00</td>\n",
       "    </tr>\n",
       "    <tr>\n",
       "      <th>1</th>\n",
       "      <td>7.37</td>\n",
       "      <td>1.06</td>\n",
       "      <td>0.00</td>\n",
       "      <td>6.17</td>\n",
       "      <td>0.16</td>\n",
       "      <td>0.00</td>\n",
       "    </tr>\n",
       "    <tr>\n",
       "      <th>2</th>\n",
       "      <td>8.82</td>\n",
       "      <td>1.77</td>\n",
       "      <td>91.52</td>\n",
       "      <td>7.62</td>\n",
       "      <td>0.87</td>\n",
       "      <td>1.60</td>\n",
       "    </tr>\n",
       "    <tr>\n",
       "      <th>3</th>\n",
       "      <td>7.26</td>\n",
       "      <td>2.65</td>\n",
       "      <td>179.93</td>\n",
       "      <td>6.06</td>\n",
       "      <td>1.75</td>\n",
       "      <td>3.14</td>\n",
       "    </tr>\n",
       "    <tr>\n",
       "      <th>4</th>\n",
       "      <td>1.41</td>\n",
       "      <td>2.60</td>\n",
       "      <td>179.93</td>\n",
       "      <td>0.21</td>\n",
       "      <td>1.70</td>\n",
       "      <td>3.14</td>\n",
       "    </tr>\n",
       "  </tbody>\n",
       "</table>\n",
       "</div>"
      ],
      "text/plain": [
       "      X     Y   THETA  X_NEW  Y_NEW   RAD\n",
       "0  1.29  0.92    0.00   0.09   0.02  0.00\n",
       "1  7.37  1.06    0.00   6.17   0.16  0.00\n",
       "2  8.82  1.77   91.52   7.62   0.87  1.60\n",
       "3  7.26  2.65  179.93   6.06   1.75  3.14\n",
       "4  1.41  2.60  179.93   0.21   1.70  3.14"
      ]
     },
     "execution_count": 4,
     "metadata": {},
     "output_type": "execute_result"
    }
   ],
   "source": [
    "# generate poses\n",
    "# simple loop test - see that it works and help to tune constants\n",
    "plist = [(1.287243,0.919311,0.000000), (7.367178,1.058972,0.000000), (8.819659,1.766591,91.521775), \n",
    "         (7.255449,2.651115,179.934763), (1.408283,2.604561,179.934763) ]\n",
    "df_slalolm = pd.DataFrame(plist, columns=['X', 'Y', 'THETA'])\n",
    "df_slalolm['X_NEW'] = df_slalolm['X'] - x_offset\n",
    "df_slalolm['Y_NEW'] = df_slalolm['Y'] - y_offset\n",
    "df_slalolm['RAD'] = df_slalolm['THETA']*3.1415/180\n",
    "df_slalolm.round(2)"
   ]
  },
  {
   "cell_type": "code",
   "execution_count": 5,
   "metadata": {},
   "outputs": [
    {
     "name": "stdout",
     "output_type": "stream",
     "text": [
      "geo.Pose2d(0.09, 0.02, geo.Rotation2d(0.00)), \n",
      "geo.Pose2d(6.17, 0.16, geo.Rotation2d(0.00)), geo.Pose2d(7.62, 0.87, geo.Rotation2d(1.60)), \n",
      "geo.Pose2d(6.06, 1.75, geo.Rotation2d(3.14)), geo.Pose2d(0.21, 1.70, geo.Rotation2d(3.14)), \n",
      "\n"
     ]
    }
   ],
   "source": [
    "# generate pose waypoints\n",
    "out = \"\"\n",
    "for ix, i in enumerate(zip(df_slalolm['X_NEW'],df_slalolm['Y_NEW'],df_slalolm['RAD'])):\n",
    "    out = out+ f\"geo.Pose2d({i[0]:2.2f}, {i[1]:2.2f}, geo.Rotation2d({i[2]:2.2f})), \"\n",
    "    if (ix) % 2 == 0:\n",
    "        out= out+ '\\n'\n",
    "print(out)"
   ]
  },
  {
   "cell_type": "code",
   "execution_count": null,
   "metadata": {},
   "outputs": [],
   "source": []
  },
  {
   "cell_type": "markdown",
   "metadata": {},
   "source": [
    "---\n",
    "#### Measure the feed forward parameters to characterize the drivetrain"
   ]
  },
  {
   "cell_type": "code",
   "execution_count": 6,
   "metadata": {},
   "outputs": [
    {
     "data": {
      "text/plain": [
       "[<matplotlib.lines.Line2D at 0x2555ab326a0>]"
      ]
     },
     "execution_count": 6,
     "metadata": {},
     "output_type": "execute_result"
    },
    {
     "data": {
      "image/png": "[encoded data removed]",
      "text/plain": [
       "<Figure size 432x288 with 1 Axes>"
      ]
     },
     "metadata": {
      "needs_background": "light"
     },
     "output_type": "display_data"
    }
   ],
   "source": [
    "# feed forward - run at a fixed voltage and measure the velocity, generate the intercept and slope for the SimpleMotorFeedForward object\n",
    "ff_x = [1, 2,    3,    4,    5]\n",
    "ff_y = [0, 0.33, 0.83, 1.33,  1.82]\n",
    "\n",
    "df_pid = pd.DataFrame({'VOLTS':ff_x, 'VEL':ff_y})\n",
    "ax = df_pid.plot('VOLTS', 'VEL', kind='scatter')\n",
    "\n",
    "par = np.polyfit(ff_x, ff_y, 1, full=True)\n",
    "slope=par[0][0]\n",
    "intercept=par[0][1]\n",
    "xl = np.linspace(0,5,51)\n",
    "yl = slope*xl + intercept\n",
    "\n",
    "plt.plot(xl,yl)"
   ]
  },
  {
   "cell_type": "code",
   "execution_count": 7,
   "metadata": {},
   "outputs": [
    {
     "data": {
      "text/plain": [
       "(1.1422413793103465, 2.155172413793103)"
      ]
     },
     "execution_count": 7,
     "metadata": {},
     "output_type": "execute_result"
    }
   ],
   "source": [
    "ks = -intercept/slope\n",
    "kv = 1/slope\n",
    "ks, kv"
   ]
  },
  {
   "cell_type": "markdown",
   "metadata": {},
   "source": [
    "---\n",
    "#### Fitting some distance data - not necessary now that encoders are fixed"
   ]
  },
  {
   "cell_type": "code",
   "execution_count": 8,
   "metadata": {},
   "outputs": [
    {
     "data": {
      "text/plain": [
       "[<matplotlib.lines.Line2D at 0x2555cc0fc70>]"
      ]
     },
     "execution_count": 8,
     "metadata": {},
     "output_type": "execute_result"
    },
    {
     "data": {
      "image/png": "[encoded data removed]",
      "text/plain": [
       "<Figure size 432x288 with 1 Axes>"
      ]
     },
     "metadata": {
      "needs_background": "light"
     },
     "output_type": "display_data"
    }
   ],
   "source": [
    "# this used \n",
    "pid_x = np.array([0.5,  0.75,  1,    2,    3,    4  ])\n",
    "pid_y = np.array([0.88, 1.62,  2.20, 3.89, 5.25, 6.48])\n",
    "\n",
    "df_pid = pd.DataFrame({'PID_X':pid_x, 'PID_Y':pid_y})\n",
    "ax = df_pid.plot('PID_X', 'PID_Y', kind='scatter')\n",
    "\n",
    "par = np.polyfit(pid_x, pid_y, 1, full=True)\n",
    "slope=par[0][0]\n",
    "intercept=par[0][1]\n",
    "xl = np.linspace(0,5,51)\n",
    "yl = slope*xl + intercept\n",
    "\n",
    "plt.plot(xl,yl)"
   ]
  },
  {
   "cell_type": "code",
   "execution_count": 9,
   "metadata": {},
   "outputs": [
    {
     "data": {
      "text/html": [
       "<div>\n",
       "<style scoped>\n",
       "    .dataframe tbody tr th:only-of-type {\n",
       "        vertical-align: middle;\n",
       "    }\n",
       "\n",
       "    .dataframe tbody tr th {\n",
       "        vertical-align: top;\n",
       "    }\n",
       "\n",
       "    .dataframe thead th {\n",
       "        text-align: right;\n",
       "    }\n",
       "</style>\n",
       "<table border=\"1\" class=\"dataframe\">\n",
       "  <thead>\n",
       "    <tr style=\"text-align: right;\">\n",
       "      <th></th>\n",
       "      <th>points</th>\n",
       "      <th>time</th>\n",
       "      <th>year</th>\n",
       "      <th>month</th>\n",
       "      <th>points_h1</th>\n",
       "    </tr>\n",
       "  </thead>\n",
       "  <tbody>\n",
       "    <tr>\n",
       "      <th>0</th>\n",
       "      <td>50.0</td>\n",
       "      <td>5:00</td>\n",
       "      <td>2010.0</td>\n",
       "      <td>NaN</td>\n",
       "      <td>NaN</td>\n",
       "    </tr>\n",
       "    <tr>\n",
       "      <th>1</th>\n",
       "      <td>25.0</td>\n",
       "      <td>6:00</td>\n",
       "      <td>NaN</td>\n",
       "      <td>february</td>\n",
       "      <td>NaN</td>\n",
       "    </tr>\n",
       "    <tr>\n",
       "      <th>2</th>\n",
       "      <td>90.0</td>\n",
       "      <td>9:00</td>\n",
       "      <td>NaN</td>\n",
       "      <td>january</td>\n",
       "      <td>NaN</td>\n",
       "    </tr>\n",
       "    <tr>\n",
       "      <th>3</th>\n",
       "      <td>NaN</td>\n",
       "      <td>NaN</td>\n",
       "      <td>NaN</td>\n",
       "      <td>june</td>\n",
       "      <td>20.0</td>\n",
       "    </tr>\n",
       "  </tbody>\n",
       "</table>\n",
       "</div>"
      ],
      "text/plain": [
       "   points  time    year     month  points_h1\n",
       "0    50.0  5:00  2010.0       NaN        NaN\n",
       "1    25.0  6:00     NaN  february        NaN\n",
       "2    90.0  9:00     NaN   january        NaN\n",
       "3     NaN   NaN     NaN      june       20.0"
      ]
     },
     "execution_count": 9,
     "metadata": {},
     "output_type": "execute_result"
    }
   ],
   "source": [
    "example = [{'points': 50, 'time': '5:00', 'year': 2010}, \n",
    "{'points': 25, 'time': '6:00', 'month': \"february\"}, \n",
    "{'points':90, 'time': '9:00', 'month': 'january'}, \n",
    "{'points_h1':20, 'month': 'june'}]\n",
    "pd.DataFrame(example)"
   ]
  },
  {
   "cell_type": "code",
   "execution_count": 10,
   "metadata": {},
   "outputs": [
    {
     "data": {
      "text/plain": [
       "['barrel_pw0',\n",
       " 'barrel_pw1',\n",
       " 'bounce_pw0',\n",
       " 'bounce_pw1',\n",
       " 'bounce_pw2',\n",
       " 'bounce_pw3',\n",
       " 'calibrate',\n",
       " 'calibrate_rev',\n",
       " 'slalom_cjh_fast',\n",
       " 'slalom_cjh_slow',\n",
       " 'slalom_pw0']"
      ]
     },
     "execution_count": 10,
     "metadata": {},
     "output_type": "execute_result"
    }
   ],
   "source": [
    "import glob\n",
    "from pathlib import Path\n",
    "def get_pathweaver_generators():\n",
    "    path_files = glob.glob('../robot/pathweaver/paths/*', recursive=True)\n",
    "    path_names = [Path(file).name for file in path_files]\n",
    "    return path_names\n",
    "get_pathweaver_generators()"
   ]
  },
  {
   "cell_type": "code",
   "execution_count": 11,
   "metadata": {},
   "outputs": [
    {
     "data": {
      "text/plain": [
       "['../robot/pathweaver/vel_0p75/output\\\\barrel_pw0.wpilib.json',\n",
       " '../robot/pathweaver/vel_0p75/output\\\\barrel_pw1.wpilib.json',\n",
       " '../robot/pathweaver/vel_0p75/output\\\\bounce_pw0.wpilib.json',\n",
       " '../robot/pathweaver/vel_0p75/output\\\\bounce_pw1.wpilib.json',\n",
       " '../robot/pathweaver/vel_0p75/output\\\\bounce_pw2.wpilib.json',\n",
       " '../robot/pathweaver/vel_0p75/output\\\\bounce_pw3.wpilib.json',\n",
       " '../robot/pathweaver/vel_0p75/output\\\\calibrate.wpilib.json',\n",
       " '../robot/pathweaver/vel_0p75/output\\\\calibrate_rev.wpilib.json',\n",
       " '../robot/pathweaver/vel_0p75/output\\\\slalom_cjh_fast.wpilib.json',\n",
       " '../robot/pathweaver/vel_0p75/output\\\\slalom_cjh_slow.wpilib.json',\n",
       " '../robot/pathweaver/vel_0p75/output\\\\slalom_pw0.wpilib.json']"
      ]
     },
     "execution_count": 11,
     "metadata": {},
     "output_type": "execute_result"
    }
   ],
   "source": [
    "def get_pathweaver_json():\n",
    "    path_files = glob.glob('../robot/pathweaver/vel_0p75/output/*.json', recursive=True)\n",
    "    path_names = [Path(file).name for file in path_files]\n",
    "    return path_files\n",
    "js = get_pathweaver_json()\n",
    "js"
   ]
  },
  {
   "cell_type": "markdown",
   "metadata": {},
   "source": [
    "#### read the pathweaver trajectory generation on the fwd and rev of calibrate\n",
    "* conclusion: reverse on pathwever \n",
    "  * has the same x and y\n",
    "  * reverses the velocity, acceleration and curvature \n",
    "  * flips the direction the robot is facing"
   ]
  },
  {
   "cell_type": "code",
   "execution_count": 12,
   "metadata": {},
   "outputs": [
    {
     "data": {
      "text/html": [
       "<div>\n",
       "<style scoped>\n",
       "    .dataframe tbody tr th:only-of-type {\n",
       "        vertical-align: middle;\n",
       "    }\n",
       "\n",
       "    .dataframe tbody tr th {\n",
       "        vertical-align: top;\n",
       "    }\n",
       "\n",
       "    .dataframe thead th {\n",
       "        text-align: right;\n",
       "    }\n",
       "</style>\n",
       "<table border=\"1\" class=\"dataframe\">\n",
       "  <thead>\n",
       "    <tr style=\"text-align: right;\">\n",
       "      <th></th>\n",
       "      <th>time</th>\n",
       "      <th>velocity</th>\n",
       "      <th>acceleration</th>\n",
       "      <th>pose</th>\n",
       "      <th>curvature</th>\n",
       "      <th>ROT</th>\n",
       "    </tr>\n",
       "  </thead>\n",
       "  <tbody>\n",
       "    <tr>\n",
       "      <th>0</th>\n",
       "      <td>0.000000</td>\n",
       "      <td>0.000000</td>\n",
       "      <td>1.000000</td>\n",
       "      <td>{'translation': {'x': 0.0030459693537640002, '...</td>\n",
       "      <td>0.000000e+00</td>\n",
       "      <td>-1.075227e-02</td>\n",
       "    </tr>\n",
       "    <tr>\n",
       "      <th>1</th>\n",
       "      <td>0.204429</td>\n",
       "      <td>0.204429</td>\n",
       "      <td>1.000000</td>\n",
       "      <td>{'translation': {'x': 0.023941411286754002, 'y...</td>\n",
       "      <td>2.198783e+00</td>\n",
       "      <td>1.336314e-02</td>\n",
       "    </tr>\n",
       "    <tr>\n",
       "      <th>2</th>\n",
       "      <td>0.290462</td>\n",
       "      <td>0.290462</td>\n",
       "      <td>0.611134</td>\n",
       "      <td>{'translation': {'x': 0.045210482646124005, 'y...</td>\n",
       "      <td>3.649512e+00</td>\n",
       "      <td>7.717842e-02</td>\n",
       "    </tr>\n",
       "    <tr>\n",
       "      <th>3</th>\n",
       "      <td>0.326696</td>\n",
       "      <td>0.312606</td>\n",
       "      <td>-0.241019</td>\n",
       "      <td>{'translation': {'x': 0.05608402852317201, 'y'...</td>\n",
       "      <td>4.055617e+00</td>\n",
       "      <td>1.194763e-01</td>\n",
       "    </tr>\n",
       "    <tr>\n",
       "      <th>4</th>\n",
       "      <td>0.363002</td>\n",
       "      <td>0.303855</td>\n",
       "      <td>-0.019569</td>\n",
       "      <td>{'translation': {'x': 0.06716105701824601, 'y'...</td>\n",
       "      <td>4.255885e+00</td>\n",
       "      <td>1.661746e-01</td>\n",
       "    </tr>\n",
       "    <tr>\n",
       "      <th>...</th>\n",
       "      <td>...</td>\n",
       "      <td>...</td>\n",
       "      <td>...</td>\n",
       "      <td>...</td>\n",
       "      <td>...</td>\n",
       "      <td>...</td>\n",
       "    </tr>\n",
       "    <tr>\n",
       "      <th>132</th>\n",
       "      <td>14.837078</td>\n",
       "      <td>0.499983</td>\n",
       "      <td>-1.000000</td>\n",
       "      <td>{'translation': {'x': 9.017516504699099, 'y': ...</td>\n",
       "      <td>-1.254283e+00</td>\n",
       "      <td>2.604170e-01</td>\n",
       "    </tr>\n",
       "    <tr>\n",
       "      <th>133</th>\n",
       "      <td>14.910513</td>\n",
       "      <td>0.426547</td>\n",
       "      <td>-1.000000</td>\n",
       "      <td>{'translation': {'x': 9.050593955378034, 'y': ...</td>\n",
       "      <td>-1.880636e+00</td>\n",
       "      <td>2.079385e-01</td>\n",
       "    </tr>\n",
       "    <tr>\n",
       "      <th>134</th>\n",
       "      <td>14.982512</td>\n",
       "      <td>0.354548</td>\n",
       "      <td>-1.000000</td>\n",
       "      <td>{'translation': {'x': 9.078267523807314, 'y': ...</td>\n",
       "      <td>-2.599270e+00</td>\n",
       "      <td>1.451601e-01</td>\n",
       "    </tr>\n",
       "    <tr>\n",
       "      <th>135</th>\n",
       "      <td>15.056719</td>\n",
       "      <td>0.280342</td>\n",
       "      <td>-1.000000</td>\n",
       "      <td>{'translation': {'x': 9.101675173612602, 'y': ...</td>\n",
       "      <td>-2.971478e+00</td>\n",
       "      <td>7.825720e-02</td>\n",
       "    </tr>\n",
       "    <tr>\n",
       "      <th>136</th>\n",
       "      <td>15.337061</td>\n",
       "      <td>0.000000</td>\n",
       "      <td>-1.000000</td>\n",
       "      <td>{'translation': {'x': 9.14095403064625, 'y': 4...</td>\n",
       "      <td>-6.023960e-14</td>\n",
       "      <td>-1.455761e-14</td>\n",
       "    </tr>\n",
       "  </tbody>\n",
       "</table>\n",
       "<p>137 rows × 6 columns</p>\n",
       "</div>"
      ],
      "text/plain": [
       "          time  velocity  acceleration  \\\n",
       "0     0.000000  0.000000      1.000000   \n",
       "1     0.204429  0.204429      1.000000   \n",
       "2     0.290462  0.290462      0.611134   \n",
       "3     0.326696  0.312606     -0.241019   \n",
       "4     0.363002  0.303855     -0.019569   \n",
       "..         ...       ...           ...   \n",
       "132  14.837078  0.499983     -1.000000   \n",
       "133  14.910513  0.426547     -1.000000   \n",
       "134  14.982512  0.354548     -1.000000   \n",
       "135  15.056719  0.280342     -1.000000   \n",
       "136  15.337061  0.000000     -1.000000   \n",
       "\n",
       "                                                  pose     curvature  \\\n",
       "0    {'translation': {'x': 0.0030459693537640002, '...  0.000000e+00   \n",
       "1    {'translation': {'x': 0.023941411286754002, 'y...  2.198783e+00   \n",
       "2    {'translation': {'x': 0.045210482646124005, 'y...  3.649512e+00   \n",
       "3    {'translation': {'x': 0.05608402852317201, 'y'...  4.055617e+00   \n",
       "4    {'translation': {'x': 0.06716105701824601, 'y'...  4.255885e+00   \n",
       "..                                                 ...           ...   \n",
       "132  {'translation': {'x': 9.017516504699099, 'y': ... -1.254283e+00   \n",
       "133  {'translation': {'x': 9.050593955378034, 'y': ... -1.880636e+00   \n",
       "134  {'translation': {'x': 9.078267523807314, 'y': ... -2.599270e+00   \n",
       "135  {'translation': {'x': 9.101675173612602, 'y': ... -2.971478e+00   \n",
       "136  {'translation': {'x': 9.14095403064625, 'y': 4... -6.023960e-14   \n",
       "\n",
       "              ROT  \n",
       "0   -1.075227e-02  \n",
       "1    1.336314e-02  \n",
       "2    7.717842e-02  \n",
       "3    1.194763e-01  \n",
       "4    1.661746e-01  \n",
       "..            ...  \n",
       "132  2.604170e-01  \n",
       "133  2.079385e-01  \n",
       "134  1.451601e-01  \n",
       "135  7.825720e-02  \n",
       "136 -1.455761e-14  \n",
       "\n",
       "[137 rows x 6 columns]"
      ]
     },
     "execution_count": 12,
     "metadata": {},
     "output_type": "execute_result"
    }
   ],
   "source": [
    "df = pd.read_json(js[6])\n",
    "df['ROT'] = [df.at[i,'pose']['rotation']['radians'] for i, row in df.iterrows()]\n",
    "df"
   ]
  },
  {
   "cell_type": "code",
   "execution_count": 13,
   "metadata": {},
   "outputs": [
    {
     "data": {
      "text/html": [
       "<div>\n",
       "<style scoped>\n",
       "    .dataframe tbody tr th:only-of-type {\n",
       "        vertical-align: middle;\n",
       "    }\n",
       "\n",
       "    .dataframe tbody tr th {\n",
       "        vertical-align: top;\n",
       "    }\n",
       "\n",
       "    .dataframe thead th {\n",
       "        text-align: right;\n",
       "    }\n",
       "</style>\n",
       "<table border=\"1\" class=\"dataframe\">\n",
       "  <thead>\n",
       "    <tr style=\"text-align: right;\">\n",
       "      <th></th>\n",
       "      <th>time</th>\n",
       "      <th>velocity</th>\n",
       "      <th>acceleration</th>\n",
       "      <th>pose</th>\n",
       "      <th>curvature</th>\n",
       "      <th>ROT</th>\n",
       "    </tr>\n",
       "  </thead>\n",
       "  <tbody>\n",
       "    <tr>\n",
       "      <th>0</th>\n",
       "      <td>0.000000</td>\n",
       "      <td>-0.000000</td>\n",
       "      <td>-1.000000</td>\n",
       "      <td>{'translation': {'x': 0.0030459693537640002, '...</td>\n",
       "      <td>-0.000000e+00</td>\n",
       "      <td>3.130840</td>\n",
       "    </tr>\n",
       "    <tr>\n",
       "      <th>1</th>\n",
       "      <td>0.204429</td>\n",
       "      <td>-0.204429</td>\n",
       "      <td>-1.000000</td>\n",
       "      <td>{'translation': {'x': 0.023941411286754002, 'y...</td>\n",
       "      <td>-2.198783e+00</td>\n",
       "      <td>-3.128230</td>\n",
       "    </tr>\n",
       "    <tr>\n",
       "      <th>2</th>\n",
       "      <td>0.290462</td>\n",
       "      <td>-0.290462</td>\n",
       "      <td>-0.611134</td>\n",
       "      <td>{'translation': {'x': 0.045210482646124005, 'y...</td>\n",
       "      <td>-3.649512e+00</td>\n",
       "      <td>-3.064414</td>\n",
       "    </tr>\n",
       "    <tr>\n",
       "      <th>3</th>\n",
       "      <td>0.326696</td>\n",
       "      <td>-0.312606</td>\n",
       "      <td>0.241019</td>\n",
       "      <td>{'translation': {'x': 0.05608402852317201, 'y'...</td>\n",
       "      <td>-4.055617e+00</td>\n",
       "      <td>-3.022116</td>\n",
       "    </tr>\n",
       "    <tr>\n",
       "      <th>4</th>\n",
       "      <td>0.363002</td>\n",
       "      <td>-0.303855</td>\n",
       "      <td>0.019569</td>\n",
       "      <td>{'translation': {'x': 0.06716105701824601, 'y'...</td>\n",
       "      <td>-4.255885e+00</td>\n",
       "      <td>-2.975418</td>\n",
       "    </tr>\n",
       "    <tr>\n",
       "      <th>...</th>\n",
       "      <td>...</td>\n",
       "      <td>...</td>\n",
       "      <td>...</td>\n",
       "      <td>...</td>\n",
       "      <td>...</td>\n",
       "      <td>...</td>\n",
       "    </tr>\n",
       "    <tr>\n",
       "      <th>132</th>\n",
       "      <td>14.837078</td>\n",
       "      <td>-0.499983</td>\n",
       "      <td>1.000000</td>\n",
       "      <td>{'translation': {'x': 9.017516504699099, 'y': ...</td>\n",
       "      <td>1.254283e+00</td>\n",
       "      <td>-2.881176</td>\n",
       "    </tr>\n",
       "    <tr>\n",
       "      <th>133</th>\n",
       "      <td>14.910513</td>\n",
       "      <td>-0.426547</td>\n",
       "      <td>1.000000</td>\n",
       "      <td>{'translation': {'x': 9.050593955378034, 'y': ...</td>\n",
       "      <td>1.880636e+00</td>\n",
       "      <td>-2.933654</td>\n",
       "    </tr>\n",
       "    <tr>\n",
       "      <th>134</th>\n",
       "      <td>14.982512</td>\n",
       "      <td>-0.354548</td>\n",
       "      <td>1.000000</td>\n",
       "      <td>{'translation': {'x': 9.078267523807314, 'y': ...</td>\n",
       "      <td>2.599270e+00</td>\n",
       "      <td>-2.996433</td>\n",
       "    </tr>\n",
       "    <tr>\n",
       "      <th>135</th>\n",
       "      <td>15.056719</td>\n",
       "      <td>-0.280342</td>\n",
       "      <td>1.000000</td>\n",
       "      <td>{'translation': {'x': 9.101675173612602, 'y': ...</td>\n",
       "      <td>2.971478e+00</td>\n",
       "      <td>-3.063335</td>\n",
       "    </tr>\n",
       "    <tr>\n",
       "      <th>136</th>\n",
       "      <td>15.337061</td>\n",
       "      <td>-0.000000</td>\n",
       "      <td>1.000000</td>\n",
       "      <td>{'translation': {'x': 9.14095403064625, 'y': 4...</td>\n",
       "      <td>6.023960e-14</td>\n",
       "      <td>3.141593</td>\n",
       "    </tr>\n",
       "  </tbody>\n",
       "</table>\n",
       "<p>137 rows × 6 columns</p>\n",
       "</div>"
      ],
      "text/plain": [
       "          time  velocity  acceleration  \\\n",
       "0     0.000000 -0.000000     -1.000000   \n",
       "1     0.204429 -0.204429     -1.000000   \n",
       "2     0.290462 -0.290462     -0.611134   \n",
       "3     0.326696 -0.312606      0.241019   \n",
       "4     0.363002 -0.303855      0.019569   \n",
       "..         ...       ...           ...   \n",
       "132  14.837078 -0.499983      1.000000   \n",
       "133  14.910513 -0.426547      1.000000   \n",
       "134  14.982512 -0.354548      1.000000   \n",
       "135  15.056719 -0.280342      1.000000   \n",
       "136  15.337061 -0.000000      1.000000   \n",
       "\n",
       "                                                  pose     curvature       ROT  \n",
       "0    {'translation': {'x': 0.0030459693537640002, '... -0.000000e+00  3.130840  \n",
       "1    {'translation': {'x': 0.023941411286754002, 'y... -2.198783e+00 -3.128230  \n",
       "2    {'translation': {'x': 0.045210482646124005, 'y... -3.649512e+00 -3.064414  \n",
       "3    {'translation': {'x': 0.05608402852317201, 'y'... -4.055617e+00 -3.022116  \n",
       "4    {'translation': {'x': 0.06716105701824601, 'y'... -4.255885e+00 -2.975418  \n",
       "..                                                 ...           ...       ...  \n",
       "132  {'translation': {'x': 9.017516504699099, 'y': ...  1.254283e+00 -2.881176  \n",
       "133  {'translation': {'x': 9.050593955378034, 'y': ...  1.880636e+00 -2.933654  \n",
       "134  {'translation': {'x': 9.078267523807314, 'y': ...  2.599270e+00 -2.996433  \n",
       "135  {'translation': {'x': 9.101675173612602, 'y': ...  2.971478e+00 -3.063335  \n",
       "136  {'translation': {'x': 9.14095403064625, 'y': 4...  6.023960e-14  3.141593  \n",
       "\n",
       "[137 rows x 6 columns]"
      ]
     },
     "execution_count": 13,
     "metadata": {},
     "output_type": "execute_result"
    }
   ],
   "source": [
    "df = pd.read_json(js[7])\n",
    "df['ROT'] = [df.at[i,'pose']['rotation']['radians'] for i, row in df.iterrows()]\n",
    "df"
   ]
  },
  {
   "cell_type": "code",
   "execution_count": 14,
   "metadata": {},
   "outputs": [
    {
     "data": {
      "text/plain": [
       "'C:\\\\Cory\\\\CJH Shared\\\\Python\\\\FRC\\\\2021\\\\notebooks'"
      ]
     },
     "execution_count": 14,
     "metadata": {},
     "output_type": "execute_result"
    }
   ],
   "source": [
    "pwd"
   ]
  },
  {
   "cell_type": "code",
   "execution_count": 15,
   "metadata": {},
   "outputs": [
    {
     "name": "stdout",
     "output_type": "stream",
     "text": [
      "C:\\Cory\\CJH Shared\\Python\\FRC\\2021\n"
     ]
    }
   ],
   "source": [
    "cd .."
   ]
  },
  {
   "cell_type": "code",
   "execution_count": 16,
   "metadata": {},
   "outputs": [
    {
     "name": "stdout",
     "output_type": "stream",
     "text": [
      "C:\\Cory\\CJH Shared\\Python\\FRC\\2021\\robot\n"
     ]
    }
   ],
   "source": [
    "cd robot"
   ]
  },
  {
   "cell_type": "markdown",
   "metadata": {},
   "source": [
    "#### use the trajectory generation to try the fwd and rev of calibrate\n",
    "* conclusion: it only reverses velocity and acceleration, not the rotation nor the curvature... \n",
    "* BUT if you use the reversed pathweaver and trajectory_config reversed it is matches the pathweaver trajectory"
   ]
  },
  {
   "cell_type": "code",
   "execution_count": 74,
   "metadata": {},
   "outputs": [],
   "source": [
    "import wpimath.spline\n",
    "import wpimath.trajectory\n",
    "\n",
    "drive_kinematics = wpimath.kinematics.DifferentialDriveKinematics(0.69)\n",
    "def generate_trajectory(path_name, velocity=2, reset_pose=True, reverse=True, save=False):\n",
    "    pathweaver_y_offfset = 4.572\n",
    "    p = Path('../robot/pathweaver/paths/' + path_name)\n",
    "    if p.is_file():\n",
    "        # pandas approach - best not to put this on the robot\n",
    "        #df_points = pd.read_csv(p, sep=',', header='infer')  # ToDo: do this without pandas\n",
    "        #cvector_list = [wpimath.spline.Spline5.ControlVector((row['X'], row['Tangent X'], 0),(row['Y'] + pathweaver_y_offfset, row['Tangent Y'], 0)) for ix, row in df_points.iterrows()]\n",
    "        lines = []\n",
    "        with open(p, \"r\") as f:\n",
    "            for line in f:\n",
    "                currentline = line.split(\",\")\n",
    "                lines.append(currentline)\n",
    "\n",
    "        cvector_list = [wpimath.spline.Spline5.ControlVector((float(row[0]), float(row[2]), 0), (float(row[1]) + pathweaver_y_offfset, float(row[3]), 0))\n",
    "                        for ix, row in enumerate(lines[1:])]\n",
    "\n",
    "        config = wpimath.trajectory.TrajectoryConfig(velocity, 1)\n",
    "        config.setKinematics(drive_kinematics)\n",
    "        reverse_array = [row[5]=='true' for row in lines[1:]]\n",
    "        if (any(entry for entry in reverse_array)):\n",
    "            config.setReversed(reverse)\n",
    "        #config.addConstraint(autonomous_voltage_constraint)\n",
    "        pw_trajectory = wpimath.trajectory.TrajectoryGenerator.generateTrajectory(cvector_list, config)\n",
    "        if save:\n",
    "            wpimath.trajectory.TrajectoryUtil.toPathweaverJson(pw_trajectory, 'pathweaver\\\\test.json')\n",
    "    else:\n",
    "        pw_trajectory = None  # do something else\n",
    "    return pw_trajectory"
   ]
  },
  {
   "cell_type": "code",
   "execution_count": 75,
   "metadata": {},
   "outputs": [],
   "source": [
    "traj_f = generate_trajectory('calibrate', 0.75, reverse=False)"
   ]
  },
  {
   "cell_type": "code",
   "execution_count": 76,
   "metadata": {},
   "outputs": [],
   "source": [
    "traj_r = generate_trajectory('calibrate_rev', 0.75, reverse=True)"
   ]
  },
  {
   "cell_type": "code",
   "execution_count": 77,
   "metadata": {},
   "outputs": [
    {
     "data": {
      "text/html": [
       "<div>\n",
       "<style scoped>\n",
       "    .dataframe tbody tr th:only-of-type {\n",
       "        vertical-align: middle;\n",
       "    }\n",
       "\n",
       "    .dataframe tbody tr th {\n",
       "        vertical-align: top;\n",
       "    }\n",
       "\n",
       "    .dataframe thead th {\n",
       "        text-align: right;\n",
       "    }\n",
       "</style>\n",
       "<table border=\"1\" class=\"dataframe\">\n",
       "  <thead>\n",
       "    <tr style=\"text-align: right;\">\n",
       "      <th></th>\n",
       "      <th>x</th>\n",
       "      <th>y</th>\n",
       "      <th>vel</th>\n",
       "      <th>rot</th>\n",
       "      <th>acc</th>\n",
       "      <th>cur</th>\n",
       "    </tr>\n",
       "  </thead>\n",
       "  <tbody>\n",
       "    <tr>\n",
       "      <th>0</th>\n",
       "      <td>0.003046</td>\n",
       "      <td>0.025084</td>\n",
       "      <td>-0.000000</td>\n",
       "      <td>3.130840</td>\n",
       "      <td>-1.000000</td>\n",
       "      <td>-0.000000e+00</td>\n",
       "    </tr>\n",
       "    <tr>\n",
       "      <th>1</th>\n",
       "      <td>0.023941</td>\n",
       "      <td>0.025032</td>\n",
       "      <td>-0.204429</td>\n",
       "      <td>-3.128230</td>\n",
       "      <td>-1.000000</td>\n",
       "      <td>-2.198783e+00</td>\n",
       "    </tr>\n",
       "    <tr>\n",
       "      <th>2</th>\n",
       "      <td>0.045210</td>\n",
       "      <td>0.025940</td>\n",
       "      <td>-0.290462</td>\n",
       "      <td>-3.064414</td>\n",
       "      <td>-0.611134</td>\n",
       "      <td>-3.649512e+00</td>\n",
       "    </tr>\n",
       "    <tr>\n",
       "      <th>3</th>\n",
       "      <td>0.056084</td>\n",
       "      <td>0.027009</td>\n",
       "      <td>-0.312606</td>\n",
       "      <td>-3.022116</td>\n",
       "      <td>0.241019</td>\n",
       "      <td>-4.055617e+00</td>\n",
       "    </tr>\n",
       "    <tr>\n",
       "      <th>4</th>\n",
       "      <td>0.067161</td>\n",
       "      <td>0.028600</td>\n",
       "      <td>-0.303855</td>\n",
       "      <td>-2.975418</td>\n",
       "      <td>0.019569</td>\n",
       "      <td>-4.255885e+00</td>\n",
       "    </tr>\n",
       "    <tr>\n",
       "      <th>...</th>\n",
       "      <td>...</td>\n",
       "      <td>...</td>\n",
       "      <td>...</td>\n",
       "      <td>...</td>\n",
       "      <td>...</td>\n",
       "      <td>...</td>\n",
       "    </tr>\n",
       "    <tr>\n",
       "      <th>132</th>\n",
       "      <td>9.017517</td>\n",
       "      <td>4.545052</td>\n",
       "      <td>-0.499983</td>\n",
       "      <td>-2.881176</td>\n",
       "      <td>1.000000</td>\n",
       "      <td>1.254283e+00</td>\n",
       "    </tr>\n",
       "    <tr>\n",
       "      <th>133</th>\n",
       "      <td>9.050594</td>\n",
       "      <td>4.553005</td>\n",
       "      <td>-0.426547</td>\n",
       "      <td>-2.933654</td>\n",
       "      <td>1.000000</td>\n",
       "      <td>1.880636e+00</td>\n",
       "    </tr>\n",
       "    <tr>\n",
       "      <th>134</th>\n",
       "      <td>9.078268</td>\n",
       "      <td>4.557991</td>\n",
       "      <td>-0.354548</td>\n",
       "      <td>-2.996433</td>\n",
       "      <td>1.000000</td>\n",
       "      <td>2.599270e+00</td>\n",
       "    </tr>\n",
       "    <tr>\n",
       "      <th>135</th>\n",
       "      <td>9.101675</td>\n",
       "      <td>4.560635</td>\n",
       "      <td>-0.280342</td>\n",
       "      <td>-3.063335</td>\n",
       "      <td>1.000000</td>\n",
       "      <td>2.971478e+00</td>\n",
       "    </tr>\n",
       "    <tr>\n",
       "      <th>136</th>\n",
       "      <td>9.140954</td>\n",
       "      <td>4.561787</td>\n",
       "      <td>-0.000000</td>\n",
       "      <td>-3.141593</td>\n",
       "      <td>1.000000</td>\n",
       "      <td>-8.031947e-14</td>\n",
       "    </tr>\n",
       "  </tbody>\n",
       "</table>\n",
       "<p>137 rows × 6 columns</p>\n",
       "</div>"
      ],
      "text/plain": [
       "            x         y       vel       rot       acc           cur\n",
       "0    0.003046  0.025084 -0.000000  3.130840 -1.000000 -0.000000e+00\n",
       "1    0.023941  0.025032 -0.204429 -3.128230 -1.000000 -2.198783e+00\n",
       "2    0.045210  0.025940 -0.290462 -3.064414 -0.611134 -3.649512e+00\n",
       "3    0.056084  0.027009 -0.312606 -3.022116  0.241019 -4.055617e+00\n",
       "4    0.067161  0.028600 -0.303855 -2.975418  0.019569 -4.255885e+00\n",
       "..        ...       ...       ...       ...       ...           ...\n",
       "132  9.017517  4.545052 -0.499983 -2.881176  1.000000  1.254283e+00\n",
       "133  9.050594  4.553005 -0.426547 -2.933654  1.000000  1.880636e+00\n",
       "134  9.078268  4.557991 -0.354548 -2.996433  1.000000  2.599270e+00\n",
       "135  9.101675  4.560635 -0.280342 -3.063335  1.000000  2.971478e+00\n",
       "136  9.140954  4.561787 -0.000000 -3.141593  1.000000 -8.031947e-14\n",
       "\n",
       "[137 rows x 6 columns]"
      ]
     },
     "execution_count": 77,
     "metadata": {},
     "output_type": "execute_result"
    }
   ],
   "source": [
    "traj = traj_r\n",
    "x = [state.pose.X() for state in traj.states()]\n",
    "y = [state.pose.Y() for state in traj.states()]\n",
    "v = [state.velocity for state in traj.states()]\n",
    "acc = [state.acceleration for state in traj.states()]\n",
    "cur = [state.curvature for state in traj.states()]\n",
    "rot = [state.pose.rotation().radians() for state in traj.states()]\n",
    "df_rev = pd.DataFrame(zip(x,y,v,rot,acc,cur), columns=['x','y','vel', 'rot', 'acc', 'cur'])\n",
    "df_rev"
   ]
  },
  {
   "cell_type": "code",
   "execution_count": 78,
   "metadata": {},
   "outputs": [
    {
     "data": {
      "text/html": [
       "<div>\n",
       "<style scoped>\n",
       "    .dataframe tbody tr th:only-of-type {\n",
       "        vertical-align: middle;\n",
       "    }\n",
       "\n",
       "    .dataframe tbody tr th {\n",
       "        vertical-align: top;\n",
       "    }\n",
       "\n",
       "    .dataframe thead th {\n",
       "        text-align: right;\n",
       "    }\n",
       "</style>\n",
       "<table border=\"1\" class=\"dataframe\">\n",
       "  <thead>\n",
       "    <tr style=\"text-align: right;\">\n",
       "      <th></th>\n",
       "      <th>x</th>\n",
       "      <th>y</th>\n",
       "      <th>vel</th>\n",
       "      <th>rot</th>\n",
       "      <th>acc</th>\n",
       "      <th>cur</th>\n",
       "    </tr>\n",
       "  </thead>\n",
       "  <tbody>\n",
       "    <tr>\n",
       "      <th>0</th>\n",
       "      <td>0.003046</td>\n",
       "      <td>0.025084</td>\n",
       "      <td>0.000000</td>\n",
       "      <td>-1.075227e-02</td>\n",
       "      <td>1.000000</td>\n",
       "      <td>0.000000e+00</td>\n",
       "    </tr>\n",
       "    <tr>\n",
       "      <th>1</th>\n",
       "      <td>0.023941</td>\n",
       "      <td>0.025032</td>\n",
       "      <td>0.204429</td>\n",
       "      <td>1.336314e-02</td>\n",
       "      <td>1.000000</td>\n",
       "      <td>2.198783e+00</td>\n",
       "    </tr>\n",
       "    <tr>\n",
       "      <th>2</th>\n",
       "      <td>0.045210</td>\n",
       "      <td>0.025940</td>\n",
       "      <td>0.290462</td>\n",
       "      <td>7.717842e-02</td>\n",
       "      <td>0.611134</td>\n",
       "      <td>3.649512e+00</td>\n",
       "    </tr>\n",
       "    <tr>\n",
       "      <th>3</th>\n",
       "      <td>0.056084</td>\n",
       "      <td>0.027009</td>\n",
       "      <td>0.312606</td>\n",
       "      <td>1.194763e-01</td>\n",
       "      <td>-0.241019</td>\n",
       "      <td>4.055617e+00</td>\n",
       "    </tr>\n",
       "    <tr>\n",
       "      <th>4</th>\n",
       "      <td>0.067161</td>\n",
       "      <td>0.028600</td>\n",
       "      <td>0.303855</td>\n",
       "      <td>1.661746e-01</td>\n",
       "      <td>-0.019569</td>\n",
       "      <td>4.255885e+00</td>\n",
       "    </tr>\n",
       "    <tr>\n",
       "      <th>...</th>\n",
       "      <td>...</td>\n",
       "      <td>...</td>\n",
       "      <td>...</td>\n",
       "      <td>...</td>\n",
       "      <td>...</td>\n",
       "      <td>...</td>\n",
       "    </tr>\n",
       "    <tr>\n",
       "      <th>132</th>\n",
       "      <td>9.017517</td>\n",
       "      <td>4.545052</td>\n",
       "      <td>0.499983</td>\n",
       "      <td>2.604170e-01</td>\n",
       "      <td>-1.000000</td>\n",
       "      <td>-1.254283e+00</td>\n",
       "    </tr>\n",
       "    <tr>\n",
       "      <th>133</th>\n",
       "      <td>9.050594</td>\n",
       "      <td>4.553005</td>\n",
       "      <td>0.426547</td>\n",
       "      <td>2.079385e-01</td>\n",
       "      <td>-1.000000</td>\n",
       "      <td>-1.880636e+00</td>\n",
       "    </tr>\n",
       "    <tr>\n",
       "      <th>134</th>\n",
       "      <td>9.078268</td>\n",
       "      <td>4.557991</td>\n",
       "      <td>0.354548</td>\n",
       "      <td>1.451601e-01</td>\n",
       "      <td>-1.000000</td>\n",
       "      <td>-2.599270e+00</td>\n",
       "    </tr>\n",
       "    <tr>\n",
       "      <th>135</th>\n",
       "      <td>9.101675</td>\n",
       "      <td>4.560635</td>\n",
       "      <td>0.280342</td>\n",
       "      <td>7.825720e-02</td>\n",
       "      <td>-1.000000</td>\n",
       "      <td>-2.971478e+00</td>\n",
       "    </tr>\n",
       "    <tr>\n",
       "      <th>136</th>\n",
       "      <td>9.140954</td>\n",
       "      <td>4.561787</td>\n",
       "      <td>0.000000</td>\n",
       "      <td>2.127651e-14</td>\n",
       "      <td>-1.000000</td>\n",
       "      <td>8.031947e-14</td>\n",
       "    </tr>\n",
       "  </tbody>\n",
       "</table>\n",
       "<p>137 rows × 6 columns</p>\n",
       "</div>"
      ],
      "text/plain": [
       "            x         y       vel           rot       acc           cur\n",
       "0    0.003046  0.025084  0.000000 -1.075227e-02  1.000000  0.000000e+00\n",
       "1    0.023941  0.025032  0.204429  1.336314e-02  1.000000  2.198783e+00\n",
       "2    0.045210  0.025940  0.290462  7.717842e-02  0.611134  3.649512e+00\n",
       "3    0.056084  0.027009  0.312606  1.194763e-01 -0.241019  4.055617e+00\n",
       "4    0.067161  0.028600  0.303855  1.661746e-01 -0.019569  4.255885e+00\n",
       "..        ...       ...       ...           ...       ...           ...\n",
       "132  9.017517  4.545052  0.499983  2.604170e-01 -1.000000 -1.254283e+00\n",
       "133  9.050594  4.553005  0.426547  2.079385e-01 -1.000000 -1.880636e+00\n",
       "134  9.078268  4.557991  0.354548  1.451601e-01 -1.000000 -2.599270e+00\n",
       "135  9.101675  4.560635  0.280342  7.825720e-02 -1.000000 -2.971478e+00\n",
       "136  9.140954  4.561787  0.000000  2.127651e-14 -1.000000  8.031947e-14\n",
       "\n",
       "[137 rows x 6 columns]"
      ]
     },
     "execution_count": 78,
     "metadata": {},
     "output_type": "execute_result"
    }
   ],
   "source": [
    "traj = traj_f\n",
    "x = [state.pose.X() for state in traj.states()]\n",
    "y = [state.pose.Y() for state in traj.states()]\n",
    "v = [state.velocity for state in traj.states()]\n",
    "acc = [state.acceleration for state in traj.states()]\n",
    "cur = [state.curvature for state in traj.states()]\n",
    "rot = [state.pose.rotation().radians() for state in traj.states()]\n",
    "df_fwd = pd.DataFrame(zip(x,y,v,rot,acc,cur), columns=['x','y','vel', 'rot', 'acc', 'cur'])\n",
    "df_fwd"
   ]
  },
  {
   "cell_type": "code",
   "execution_count": 79,
   "metadata": {},
   "outputs": [
    {
     "data": {
      "text/plain": [
       "0      3.130840\n",
       "1     -3.128230\n",
       "2     -3.064414\n",
       "3     -3.022116\n",
       "4     -2.975418\n",
       "         ...   \n",
       "132   -2.881176\n",
       "133   -2.933654\n",
       "134   -2.996433\n",
       "135   -3.063335\n",
       "136   -3.141593\n",
       "Name: rot, Length: 137, dtype: float64"
      ]
     },
     "execution_count": 79,
     "metadata": {},
     "output_type": "execute_result"
    }
   ],
   "source": [
    "df_rev['rot'] "
   ]
  },
  {
   "cell_type": "code",
   "execution_count": null,
   "metadata": {},
   "outputs": [],
   "source": []
  }
 ],
 "metadata": {
  "kernelspec": {
   "display_name": "robo2021",
   "language": "python",
   "name": "robo2021"
  },
  "language_info": {
   "codemirror_mode": {
    "name": "ipython",
    "version": 3
   },
   "file_extension": ".py",
   "mimetype": "text/x-python",
   "name": "python",
   "nbconvert_exporter": "python",
   "pygments_lexer": "ipython3",
   "version": "3.8.6"
  }
 },
 "nbformat": 4,
 "nbformat_minor": 4
}
